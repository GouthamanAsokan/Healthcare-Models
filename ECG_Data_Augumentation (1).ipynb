{
  "nbformat": 4,
  "nbformat_minor": 0,
  "metadata": {
    "colab": {
      "name": "ECG_Data_Augumentation.ipynb",
      "provenance": [],
      "collapsed_sections": []
    },
    "kernelspec": {
      "name": "python3",
      "display_name": "Python 3"
    },
    "accelerator": "GPU"
  },
  "cells": [
    {
      "cell_type": "code",
      "metadata": {
        "id": "QW2vg_PAu5lK",
        "colab_type": "code",
        "outputId": "6f8a0989-0660-48a8-9ac1-4b622b5ee462",
        "colab": {
          "base_uri": "https://localhost:8080/",
          "height": 204
        }
      },
      "source": [
        "!pip install kaggle\n"
      ],
      "execution_count": 1,
      "outputs": [
        {
          "output_type": "stream",
          "text": [
            "Requirement already satisfied: kaggle in /usr/local/lib/python3.6/dist-packages (1.5.6)\n",
            "Requirement already satisfied: requests in /usr/local/lib/python3.6/dist-packages (from kaggle) (2.21.0)\n",
            "Requirement already satisfied: urllib3<1.25,>=1.21.1 in /usr/local/lib/python3.6/dist-packages (from kaggle) (1.24.3)\n",
            "Requirement already satisfied: six>=1.10 in /usr/local/lib/python3.6/dist-packages (from kaggle) (1.12.0)\n",
            "Requirement already satisfied: python-dateutil in /usr/local/lib/python3.6/dist-packages (from kaggle) (2.6.1)\n",
            "Requirement already satisfied: certifi in /usr/local/lib/python3.6/dist-packages (from kaggle) (2019.9.11)\n",
            "Requirement already satisfied: python-slugify in /usr/local/lib/python3.6/dist-packages (from kaggle) (4.0.0)\n",
            "Requirement already satisfied: tqdm in /usr/local/lib/python3.6/dist-packages (from kaggle) (4.28.1)\n",
            "Requirement already satisfied: idna<2.9,>=2.5 in /usr/local/lib/python3.6/dist-packages (from requests->kaggle) (2.8)\n",
            "Requirement already satisfied: chardet<3.1.0,>=3.0.2 in /usr/local/lib/python3.6/dist-packages (from requests->kaggle) (3.0.4)\n",
            "Requirement already satisfied: text-unidecode>=1.3 in /usr/local/lib/python3.6/dist-packages (from python-slugify->kaggle) (1.3)\n"
          ],
          "name": "stdout"
        }
      ]
    },
    {
      "cell_type": "code",
      "metadata": {
        "id": "5hsoPDbXvPR_",
        "colab_type": "code",
        "colab": {}
      },
      "source": [
        "mkdir .kaggle"
      ],
      "execution_count": 0,
      "outputs": []
    },
    {
      "cell_type": "code",
      "metadata": {
        "id": "QbLLtf1PvXd6",
        "colab_type": "code",
        "colab": {}
      },
      "source": [
        "import json\n",
        "token = {'username':'gouthamanasokan','key':'c028fa6982d0516ec12318c813a8ce1e'}\n",
        "with open('/content/.kaggle/kaggle.json', 'w') as file:\n",
        "    json.dump(token, file)"
      ],
      "execution_count": 0,
      "outputs": []
    },
    {
      "cell_type": "code",
      "metadata": {
        "id": "mj5Miwnvva46",
        "colab_type": "code",
        "outputId": "acd23060-2af1-4905-be98-bee2b1456942",
        "colab": {
          "base_uri": "https://localhost:8080/",
          "height": 51
        }
      },
      "source": [
        "!cp /content/.kaggle/kaggle.json ~/.kaggle/kaggle.json\n",
        "!kaggle config set -n path -v{/content}"
      ],
      "execution_count": 5,
      "outputs": [
        {
          "output_type": "stream",
          "text": [
            "Warning: Your Kaggle API key is readable by other users on this system! To fix this, you can run 'chmod 600 /root/.kaggle/kaggle.json'\n",
            "- path is now set to: {/content}\n"
          ],
          "name": "stdout"
        }
      ]
    },
    {
      "cell_type": "code",
      "metadata": {
        "id": "9gWqAyx5vlzT",
        "colab_type": "code",
        "colab": {}
      },
      "source": [
        "!chmod 600 /root/.kaggle/kaggle.json"
      ],
      "execution_count": 0,
      "outputs": []
    },
    {
      "cell_type": "code",
      "metadata": {
        "id": "QIlEgjoEvqpr",
        "colab_type": "code",
        "outputId": "5b19d59f-76de-4b3a-e507-4cb5b127802a",
        "colab": {
          "base_uri": "https://localhost:8080/",
          "height": 68
        }
      },
      "source": [
        "!kaggle datasets download -d shayanfazeli/heartbeat -p /content\n"
      ],
      "execution_count": 7,
      "outputs": [
        {
          "output_type": "stream",
          "text": [
            "Downloading heartbeat.zip to /content\n",
            " 95% 94.0M/98.8M [00:01<00:00, 52.3MB/s]\n",
            "100% 98.8M/98.8M [00:01<00:00, 75.8MB/s]\n"
          ],
          "name": "stdout"
        }
      ]
    },
    {
      "cell_type": "code",
      "metadata": {
        "id": "owC-Uc3pvuO0",
        "colab_type": "code",
        "outputId": "c72756d0-97d8-48ab-ff83-879c05bc13a6",
        "colab": {
          "base_uri": "https://localhost:8080/",
          "height": 80
        }
      },
      "source": [
        "#Importing the libraries\n",
        "import math\n",
        "import random\n",
        "import pickle\n",
        "import itertools\n",
        "\n",
        "import numpy as np # linear algebra\n",
        "import pandas as pd # data processing, CSV file I/O (e.g. pd.read_csv)\n",
        "\n",
        "from sklearn.metrics import accuracy_score, classification_report, confusion_matrix, label_ranking_average_precision_score, label_ranking_loss, coverage_error \n",
        "\n",
        "from sklearn.utils import shuffle\n",
        "\n",
        "from scipy.signal import resample\n",
        "\n",
        "import matplotlib.pyplot as plt\n",
        "\n",
        "np.random.seed(42)\n",
        "\n",
        "import pickle\n",
        "from sklearn.preprocessing import OneHotEncoder\n",
        "\n",
        "from keras.models import Model\n",
        "from keras.layers import Input, Dense, Conv1D, MaxPooling1D, Softmax, Add, Flatten, Activation# , Dropout\n",
        "from keras import backend as K\n",
        "from keras.optimizers import Adam\n",
        "from keras.callbacks import LearningRateScheduler, ModelCheckpoint\n",
        "\n",
        "# Input data files are available in the \"../input/\" directory.\n",
        "# For example, running this (by clicking run or pressing Shift+Enter) will list the files in the input directory\n",
        "\n",
        "import os"
      ],
      "execution_count": 8,
      "outputs": [
        {
          "output_type": "stream",
          "text": [
            "Using TensorFlow backend.\n"
          ],
          "name": "stderr"
        },
        {
          "output_type": "display_data",
          "data": {
            "text/html": [
              "<p style=\"color: red;\">\n",
              "The default version of TensorFlow in Colab will soon switch to TensorFlow 2.x.<br>\n",
              "We recommend you <a href=\"https://www.tensorflow.org/guide/migrate\" target=\"_blank\">upgrade</a> now \n",
              "or ensure your notebook will continue to use TensorFlow 1.x via the <code>%tensorflow_version 1.x</code> magic:\n",
              "<a href=\"https://colab.research.google.com/notebooks/tensorflow_version.ipynb\" target=\"_blank\">more info</a>.</p>\n"
            ],
            "text/plain": [
              "<IPython.core.display.HTML object>"
            ]
          },
          "metadata": {
            "tags": []
          }
        }
      ]
    },
    {
      "cell_type": "code",
      "metadata": {
        "id": "lM0S3IAyv0Fc",
        "colab_type": "code",
        "outputId": "d8880214-1b0d-4168-c0dc-036ff8ff5fb5",
        "colab": {
          "base_uri": "https://localhost:8080/",
          "height": 102
        }
      },
      "source": [
        "!unzip \\*.zip"
      ],
      "execution_count": 9,
      "outputs": [
        {
          "output_type": "stream",
          "text": [
            "Archive:  heartbeat.zip\n",
            "  inflating: mitbih_test.csv         \n",
            "  inflating: mitbih_train.csv        \n",
            "  inflating: ptbdb_abnormal.csv      \n",
            "  inflating: ptbdb_normal.csv        \n"
          ],
          "name": "stdout"
        }
      ]
    },
    {
      "cell_type": "code",
      "metadata": {
        "id": "1Wb4U6x7v8G6",
        "colab_type": "code",
        "colab": {}
      },
      "source": [
        "df = pd.read_csv(\"mitbih_train.csv\", header=None)\n",
        "df2 = pd.read_csv(\"mitbih_test.csv\", header=None)\n",
        "df = pd.concat([df, df2], axis=0)"
      ],
      "execution_count": 0,
      "outputs": []
    },
    {
      "cell_type": "code",
      "metadata": {
        "id": "Lb9IeaQnwB9p",
        "colab_type": "code",
        "outputId": "3af76c44-0377-49f1-bd23-e661d346db7f",
        "colab": {
          "base_uri": "https://localhost:8080/",
          "height": 253
        }
      },
      "source": [
        "df.head()"
      ],
      "execution_count": 11,
      "outputs": [
        {
          "output_type": "execute_result",
          "data": {
            "text/html": [
              "<div>\n",
              "<style scoped>\n",
              "    .dataframe tbody tr th:only-of-type {\n",
              "        vertical-align: middle;\n",
              "    }\n",
              "\n",
              "    .dataframe tbody tr th {\n",
              "        vertical-align: top;\n",
              "    }\n",
              "\n",
              "    .dataframe thead th {\n",
              "        text-align: right;\n",
              "    }\n",
              "</style>\n",
              "<table border=\"1\" class=\"dataframe\">\n",
              "  <thead>\n",
              "    <tr style=\"text-align: right;\">\n",
              "      <th></th>\n",
              "      <th>0</th>\n",
              "      <th>1</th>\n",
              "      <th>2</th>\n",
              "      <th>3</th>\n",
              "      <th>4</th>\n",
              "      <th>5</th>\n",
              "      <th>6</th>\n",
              "      <th>7</th>\n",
              "      <th>8</th>\n",
              "      <th>9</th>\n",
              "      <th>10</th>\n",
              "      <th>11</th>\n",
              "      <th>12</th>\n",
              "      <th>13</th>\n",
              "      <th>14</th>\n",
              "      <th>15</th>\n",
              "      <th>16</th>\n",
              "      <th>17</th>\n",
              "      <th>18</th>\n",
              "      <th>19</th>\n",
              "      <th>20</th>\n",
              "      <th>21</th>\n",
              "      <th>22</th>\n",
              "      <th>23</th>\n",
              "      <th>24</th>\n",
              "      <th>25</th>\n",
              "      <th>26</th>\n",
              "      <th>27</th>\n",
              "      <th>28</th>\n",
              "      <th>29</th>\n",
              "      <th>30</th>\n",
              "      <th>31</th>\n",
              "      <th>32</th>\n",
              "      <th>33</th>\n",
              "      <th>34</th>\n",
              "      <th>35</th>\n",
              "      <th>36</th>\n",
              "      <th>37</th>\n",
              "      <th>38</th>\n",
              "      <th>39</th>\n",
              "      <th>...</th>\n",
              "      <th>148</th>\n",
              "      <th>149</th>\n",
              "      <th>150</th>\n",
              "      <th>151</th>\n",
              "      <th>152</th>\n",
              "      <th>153</th>\n",
              "      <th>154</th>\n",
              "      <th>155</th>\n",
              "      <th>156</th>\n",
              "      <th>157</th>\n",
              "      <th>158</th>\n",
              "      <th>159</th>\n",
              "      <th>160</th>\n",
              "      <th>161</th>\n",
              "      <th>162</th>\n",
              "      <th>163</th>\n",
              "      <th>164</th>\n",
              "      <th>165</th>\n",
              "      <th>166</th>\n",
              "      <th>167</th>\n",
              "      <th>168</th>\n",
              "      <th>169</th>\n",
              "      <th>170</th>\n",
              "      <th>171</th>\n",
              "      <th>172</th>\n",
              "      <th>173</th>\n",
              "      <th>174</th>\n",
              "      <th>175</th>\n",
              "      <th>176</th>\n",
              "      <th>177</th>\n",
              "      <th>178</th>\n",
              "      <th>179</th>\n",
              "      <th>180</th>\n",
              "      <th>181</th>\n",
              "      <th>182</th>\n",
              "      <th>183</th>\n",
              "      <th>184</th>\n",
              "      <th>185</th>\n",
              "      <th>186</th>\n",
              "      <th>187</th>\n",
              "    </tr>\n",
              "  </thead>\n",
              "  <tbody>\n",
              "    <tr>\n",
              "      <th>0</th>\n",
              "      <td>0.977941</td>\n",
              "      <td>0.926471</td>\n",
              "      <td>0.681373</td>\n",
              "      <td>0.245098</td>\n",
              "      <td>0.154412</td>\n",
              "      <td>0.191176</td>\n",
              "      <td>0.151961</td>\n",
              "      <td>0.085784</td>\n",
              "      <td>0.058824</td>\n",
              "      <td>0.049020</td>\n",
              "      <td>0.044118</td>\n",
              "      <td>0.061275</td>\n",
              "      <td>0.066176</td>\n",
              "      <td>0.061275</td>\n",
              "      <td>0.049020</td>\n",
              "      <td>0.073529</td>\n",
              "      <td>0.061275</td>\n",
              "      <td>0.061275</td>\n",
              "      <td>0.066176</td>\n",
              "      <td>0.068627</td>\n",
              "      <td>0.095588</td>\n",
              "      <td>0.075980</td>\n",
              "      <td>0.093137</td>\n",
              "      <td>0.105392</td>\n",
              "      <td>0.115196</td>\n",
              "      <td>0.102941</td>\n",
              "      <td>0.117647</td>\n",
              "      <td>0.125000</td>\n",
              "      <td>0.142157</td>\n",
              "      <td>0.127451</td>\n",
              "      <td>0.151961</td>\n",
              "      <td>0.144608</td>\n",
              "      <td>0.164216</td>\n",
              "      <td>0.144608</td>\n",
              "      <td>0.159314</td>\n",
              "      <td>0.151961</td>\n",
              "      <td>0.154412</td>\n",
              "      <td>0.142157</td>\n",
              "      <td>0.151961</td>\n",
              "      <td>0.151961</td>\n",
              "      <td>...</td>\n",
              "      <td>0.0</td>\n",
              "      <td>0.0</td>\n",
              "      <td>0.0</td>\n",
              "      <td>0.0</td>\n",
              "      <td>0.0</td>\n",
              "      <td>0.0</td>\n",
              "      <td>0.0</td>\n",
              "      <td>0.0</td>\n",
              "      <td>0.0</td>\n",
              "      <td>0.0</td>\n",
              "      <td>0.0</td>\n",
              "      <td>0.0</td>\n",
              "      <td>0.0</td>\n",
              "      <td>0.0</td>\n",
              "      <td>0.0</td>\n",
              "      <td>0.0</td>\n",
              "      <td>0.0</td>\n",
              "      <td>0.0</td>\n",
              "      <td>0.0</td>\n",
              "      <td>0.0</td>\n",
              "      <td>0.0</td>\n",
              "      <td>0.0</td>\n",
              "      <td>0.0</td>\n",
              "      <td>0.0</td>\n",
              "      <td>0.0</td>\n",
              "      <td>0.0</td>\n",
              "      <td>0.0</td>\n",
              "      <td>0.0</td>\n",
              "      <td>0.0</td>\n",
              "      <td>0.0</td>\n",
              "      <td>0.0</td>\n",
              "      <td>0.0</td>\n",
              "      <td>0.0</td>\n",
              "      <td>0.0</td>\n",
              "      <td>0.0</td>\n",
              "      <td>0.0</td>\n",
              "      <td>0.0</td>\n",
              "      <td>0.0</td>\n",
              "      <td>0.0</td>\n",
              "      <td>0.0</td>\n",
              "    </tr>\n",
              "    <tr>\n",
              "      <th>1</th>\n",
              "      <td>0.960114</td>\n",
              "      <td>0.863248</td>\n",
              "      <td>0.461538</td>\n",
              "      <td>0.196581</td>\n",
              "      <td>0.094017</td>\n",
              "      <td>0.125356</td>\n",
              "      <td>0.099715</td>\n",
              "      <td>0.088319</td>\n",
              "      <td>0.074074</td>\n",
              "      <td>0.082621</td>\n",
              "      <td>0.074074</td>\n",
              "      <td>0.062678</td>\n",
              "      <td>0.065527</td>\n",
              "      <td>0.065527</td>\n",
              "      <td>0.062678</td>\n",
              "      <td>0.076923</td>\n",
              "      <td>0.071225</td>\n",
              "      <td>0.082621</td>\n",
              "      <td>0.091168</td>\n",
              "      <td>0.096866</td>\n",
              "      <td>0.082621</td>\n",
              "      <td>0.082621</td>\n",
              "      <td>0.091168</td>\n",
              "      <td>0.105413</td>\n",
              "      <td>0.122507</td>\n",
              "      <td>0.148148</td>\n",
              "      <td>0.182336</td>\n",
              "      <td>0.193732</td>\n",
              "      <td>0.213675</td>\n",
              "      <td>0.207977</td>\n",
              "      <td>0.222222</td>\n",
              "      <td>0.253561</td>\n",
              "      <td>0.270655</td>\n",
              "      <td>0.287749</td>\n",
              "      <td>0.284900</td>\n",
              "      <td>0.293447</td>\n",
              "      <td>0.256410</td>\n",
              "      <td>0.247863</td>\n",
              "      <td>0.188034</td>\n",
              "      <td>0.145299</td>\n",
              "      <td>...</td>\n",
              "      <td>0.0</td>\n",
              "      <td>0.0</td>\n",
              "      <td>0.0</td>\n",
              "      <td>0.0</td>\n",
              "      <td>0.0</td>\n",
              "      <td>0.0</td>\n",
              "      <td>0.0</td>\n",
              "      <td>0.0</td>\n",
              "      <td>0.0</td>\n",
              "      <td>0.0</td>\n",
              "      <td>0.0</td>\n",
              "      <td>0.0</td>\n",
              "      <td>0.0</td>\n",
              "      <td>0.0</td>\n",
              "      <td>0.0</td>\n",
              "      <td>0.0</td>\n",
              "      <td>0.0</td>\n",
              "      <td>0.0</td>\n",
              "      <td>0.0</td>\n",
              "      <td>0.0</td>\n",
              "      <td>0.0</td>\n",
              "      <td>0.0</td>\n",
              "      <td>0.0</td>\n",
              "      <td>0.0</td>\n",
              "      <td>0.0</td>\n",
              "      <td>0.0</td>\n",
              "      <td>0.0</td>\n",
              "      <td>0.0</td>\n",
              "      <td>0.0</td>\n",
              "      <td>0.0</td>\n",
              "      <td>0.0</td>\n",
              "      <td>0.0</td>\n",
              "      <td>0.0</td>\n",
              "      <td>0.0</td>\n",
              "      <td>0.0</td>\n",
              "      <td>0.0</td>\n",
              "      <td>0.0</td>\n",
              "      <td>0.0</td>\n",
              "      <td>0.0</td>\n",
              "      <td>0.0</td>\n",
              "    </tr>\n",
              "    <tr>\n",
              "      <th>2</th>\n",
              "      <td>1.000000</td>\n",
              "      <td>0.659459</td>\n",
              "      <td>0.186486</td>\n",
              "      <td>0.070270</td>\n",
              "      <td>0.070270</td>\n",
              "      <td>0.059459</td>\n",
              "      <td>0.056757</td>\n",
              "      <td>0.043243</td>\n",
              "      <td>0.054054</td>\n",
              "      <td>0.045946</td>\n",
              "      <td>0.056757</td>\n",
              "      <td>0.043243</td>\n",
              "      <td>0.067568</td>\n",
              "      <td>0.062162</td>\n",
              "      <td>0.078378</td>\n",
              "      <td>0.072973</td>\n",
              "      <td>0.086486</td>\n",
              "      <td>0.081081</td>\n",
              "      <td>0.108108</td>\n",
              "      <td>0.110811</td>\n",
              "      <td>0.135135</td>\n",
              "      <td>0.135135</td>\n",
              "      <td>0.170270</td>\n",
              "      <td>0.183784</td>\n",
              "      <td>0.216216</td>\n",
              "      <td>0.237838</td>\n",
              "      <td>0.270270</td>\n",
              "      <td>0.286486</td>\n",
              "      <td>0.316216</td>\n",
              "      <td>0.318919</td>\n",
              "      <td>0.332432</td>\n",
              "      <td>0.297297</td>\n",
              "      <td>0.267568</td>\n",
              "      <td>0.216216</td>\n",
              "      <td>0.189189</td>\n",
              "      <td>0.132432</td>\n",
              "      <td>0.118919</td>\n",
              "      <td>0.064865</td>\n",
              "      <td>0.064865</td>\n",
              "      <td>0.043243</td>\n",
              "      <td>...</td>\n",
              "      <td>0.0</td>\n",
              "      <td>0.0</td>\n",
              "      <td>0.0</td>\n",
              "      <td>0.0</td>\n",
              "      <td>0.0</td>\n",
              "      <td>0.0</td>\n",
              "      <td>0.0</td>\n",
              "      <td>0.0</td>\n",
              "      <td>0.0</td>\n",
              "      <td>0.0</td>\n",
              "      <td>0.0</td>\n",
              "      <td>0.0</td>\n",
              "      <td>0.0</td>\n",
              "      <td>0.0</td>\n",
              "      <td>0.0</td>\n",
              "      <td>0.0</td>\n",
              "      <td>0.0</td>\n",
              "      <td>0.0</td>\n",
              "      <td>0.0</td>\n",
              "      <td>0.0</td>\n",
              "      <td>0.0</td>\n",
              "      <td>0.0</td>\n",
              "      <td>0.0</td>\n",
              "      <td>0.0</td>\n",
              "      <td>0.0</td>\n",
              "      <td>0.0</td>\n",
              "      <td>0.0</td>\n",
              "      <td>0.0</td>\n",
              "      <td>0.0</td>\n",
              "      <td>0.0</td>\n",
              "      <td>0.0</td>\n",
              "      <td>0.0</td>\n",
              "      <td>0.0</td>\n",
              "      <td>0.0</td>\n",
              "      <td>0.0</td>\n",
              "      <td>0.0</td>\n",
              "      <td>0.0</td>\n",
              "      <td>0.0</td>\n",
              "      <td>0.0</td>\n",
              "      <td>0.0</td>\n",
              "    </tr>\n",
              "    <tr>\n",
              "      <th>3</th>\n",
              "      <td>0.925414</td>\n",
              "      <td>0.665746</td>\n",
              "      <td>0.541436</td>\n",
              "      <td>0.276243</td>\n",
              "      <td>0.196133</td>\n",
              "      <td>0.077348</td>\n",
              "      <td>0.071823</td>\n",
              "      <td>0.060773</td>\n",
              "      <td>0.066298</td>\n",
              "      <td>0.058011</td>\n",
              "      <td>0.063536</td>\n",
              "      <td>0.082873</td>\n",
              "      <td>0.085635</td>\n",
              "      <td>0.093923</td>\n",
              "      <td>0.113260</td>\n",
              "      <td>0.124309</td>\n",
              "      <td>0.140884</td>\n",
              "      <td>0.132597</td>\n",
              "      <td>0.140884</td>\n",
              "      <td>0.091160</td>\n",
              "      <td>0.085635</td>\n",
              "      <td>0.074586</td>\n",
              "      <td>0.071823</td>\n",
              "      <td>0.080110</td>\n",
              "      <td>0.096685</td>\n",
              "      <td>0.118785</td>\n",
              "      <td>0.138122</td>\n",
              "      <td>0.140884</td>\n",
              "      <td>0.138122</td>\n",
              "      <td>0.146409</td>\n",
              "      <td>0.110497</td>\n",
              "      <td>0.102210</td>\n",
              "      <td>0.060773</td>\n",
              "      <td>0.027624</td>\n",
              "      <td>0.038674</td>\n",
              "      <td>0.013812</td>\n",
              "      <td>0.011050</td>\n",
              "      <td>0.013812</td>\n",
              "      <td>0.033149</td>\n",
              "      <td>0.005525</td>\n",
              "      <td>...</td>\n",
              "      <td>0.0</td>\n",
              "      <td>0.0</td>\n",
              "      <td>0.0</td>\n",
              "      <td>0.0</td>\n",
              "      <td>0.0</td>\n",
              "      <td>0.0</td>\n",
              "      <td>0.0</td>\n",
              "      <td>0.0</td>\n",
              "      <td>0.0</td>\n",
              "      <td>0.0</td>\n",
              "      <td>0.0</td>\n",
              "      <td>0.0</td>\n",
              "      <td>0.0</td>\n",
              "      <td>0.0</td>\n",
              "      <td>0.0</td>\n",
              "      <td>0.0</td>\n",
              "      <td>0.0</td>\n",
              "      <td>0.0</td>\n",
              "      <td>0.0</td>\n",
              "      <td>0.0</td>\n",
              "      <td>0.0</td>\n",
              "      <td>0.0</td>\n",
              "      <td>0.0</td>\n",
              "      <td>0.0</td>\n",
              "      <td>0.0</td>\n",
              "      <td>0.0</td>\n",
              "      <td>0.0</td>\n",
              "      <td>0.0</td>\n",
              "      <td>0.0</td>\n",
              "      <td>0.0</td>\n",
              "      <td>0.0</td>\n",
              "      <td>0.0</td>\n",
              "      <td>0.0</td>\n",
              "      <td>0.0</td>\n",
              "      <td>0.0</td>\n",
              "      <td>0.0</td>\n",
              "      <td>0.0</td>\n",
              "      <td>0.0</td>\n",
              "      <td>0.0</td>\n",
              "      <td>0.0</td>\n",
              "    </tr>\n",
              "    <tr>\n",
              "      <th>4</th>\n",
              "      <td>0.967136</td>\n",
              "      <td>1.000000</td>\n",
              "      <td>0.830986</td>\n",
              "      <td>0.586854</td>\n",
              "      <td>0.356808</td>\n",
              "      <td>0.248826</td>\n",
              "      <td>0.145540</td>\n",
              "      <td>0.089202</td>\n",
              "      <td>0.117371</td>\n",
              "      <td>0.150235</td>\n",
              "      <td>0.131455</td>\n",
              "      <td>0.122066</td>\n",
              "      <td>0.140845</td>\n",
              "      <td>0.159624</td>\n",
              "      <td>0.150235</td>\n",
              "      <td>0.145540</td>\n",
              "      <td>0.136150</td>\n",
              "      <td>0.169014</td>\n",
              "      <td>0.178404</td>\n",
              "      <td>0.173709</td>\n",
              "      <td>0.183099</td>\n",
              "      <td>0.201878</td>\n",
              "      <td>0.187793</td>\n",
              "      <td>0.164319</td>\n",
              "      <td>0.187793</td>\n",
              "      <td>0.215962</td>\n",
              "      <td>0.215962</td>\n",
              "      <td>0.201878</td>\n",
              "      <td>0.211268</td>\n",
              "      <td>0.230047</td>\n",
              "      <td>0.215962</td>\n",
              "      <td>0.230047</td>\n",
              "      <td>0.239437</td>\n",
              "      <td>0.267606</td>\n",
              "      <td>0.253521</td>\n",
              "      <td>0.230047</td>\n",
              "      <td>0.220657</td>\n",
              "      <td>0.225352</td>\n",
              "      <td>0.211268</td>\n",
              "      <td>0.173709</td>\n",
              "      <td>...</td>\n",
              "      <td>0.0</td>\n",
              "      <td>0.0</td>\n",
              "      <td>0.0</td>\n",
              "      <td>0.0</td>\n",
              "      <td>0.0</td>\n",
              "      <td>0.0</td>\n",
              "      <td>0.0</td>\n",
              "      <td>0.0</td>\n",
              "      <td>0.0</td>\n",
              "      <td>0.0</td>\n",
              "      <td>0.0</td>\n",
              "      <td>0.0</td>\n",
              "      <td>0.0</td>\n",
              "      <td>0.0</td>\n",
              "      <td>0.0</td>\n",
              "      <td>0.0</td>\n",
              "      <td>0.0</td>\n",
              "      <td>0.0</td>\n",
              "      <td>0.0</td>\n",
              "      <td>0.0</td>\n",
              "      <td>0.0</td>\n",
              "      <td>0.0</td>\n",
              "      <td>0.0</td>\n",
              "      <td>0.0</td>\n",
              "      <td>0.0</td>\n",
              "      <td>0.0</td>\n",
              "      <td>0.0</td>\n",
              "      <td>0.0</td>\n",
              "      <td>0.0</td>\n",
              "      <td>0.0</td>\n",
              "      <td>0.0</td>\n",
              "      <td>0.0</td>\n",
              "      <td>0.0</td>\n",
              "      <td>0.0</td>\n",
              "      <td>0.0</td>\n",
              "      <td>0.0</td>\n",
              "      <td>0.0</td>\n",
              "      <td>0.0</td>\n",
              "      <td>0.0</td>\n",
              "      <td>0.0</td>\n",
              "    </tr>\n",
              "  </tbody>\n",
              "</table>\n",
              "<p>5 rows × 188 columns</p>\n",
              "</div>"
            ],
            "text/plain": [
              "        0         1         2         3         4    ...  183  184  185  186  187\n",
              "0  0.977941  0.926471  0.681373  0.245098  0.154412  ...  0.0  0.0  0.0  0.0  0.0\n",
              "1  0.960114  0.863248  0.461538  0.196581  0.094017  ...  0.0  0.0  0.0  0.0  0.0\n",
              "2  1.000000  0.659459  0.186486  0.070270  0.070270  ...  0.0  0.0  0.0  0.0  0.0\n",
              "3  0.925414  0.665746  0.541436  0.276243  0.196133  ...  0.0  0.0  0.0  0.0  0.0\n",
              "4  0.967136  1.000000  0.830986  0.586854  0.356808  ...  0.0  0.0  0.0  0.0  0.0\n",
              "\n",
              "[5 rows x 188 columns]"
            ]
          },
          "metadata": {
            "tags": []
          },
          "execution_count": 11
        }
      ]
    },
    {
      "cell_type": "code",
      "metadata": {
        "id": "w4G-hZDJwbfV",
        "colab_type": "code",
        "outputId": "d8067263-837d-4000-ee02-d3fb966c1e73",
        "colab": {
          "base_uri": "https://localhost:8080/",
          "height": 119
        }
      },
      "source": [
        "df[187].value_counts()"
      ],
      "execution_count": 12,
      "outputs": [
        {
          "output_type": "execute_result",
          "data": {
            "text/plain": [
              "0.0    90589\n",
              "4.0     8039\n",
              "2.0     7236\n",
              "1.0     2779\n",
              "3.0      803\n",
              "Name: 187, dtype: int64"
            ]
          },
          "metadata": {
            "tags": []
          },
          "execution_count": 12
        }
      ]
    },
    {
      "cell_type": "code",
      "metadata": {
        "id": "VuVCj562wf0B",
        "colab_type": "code",
        "colab": {}
      },
      "source": [
        "M = df.values\n",
        "X = M[:, :-1]\n",
        "y = M[:, -1].astype(int)\n"
      ],
      "execution_count": 0,
      "outputs": []
    },
    {
      "cell_type": "code",
      "metadata": {
        "id": "RelsUnEaxKwv",
        "colab_type": "code",
        "colab": {}
      },
      "source": [
        "C0 = np.argwhere(y == 0).flatten()\n",
        "C1 = np.argwhere(y == 1).flatten()\n",
        "C2 = np.argwhere(y == 2).flatten()\n",
        "C3 = np.argwhere(y == 3).flatten()\n",
        "C4 = np.argwhere(y == 4).flatten()"
      ],
      "execution_count": 0,
      "outputs": []
    },
    {
      "cell_type": "code",
      "metadata": {
        "id": "Oo1rQU2ewlRU",
        "colab_type": "code",
        "outputId": "828d0c23-6e72-4b4c-a0ba-03c47adf0ea1",
        "colab": {
          "base_uri": "https://localhost:8080/",
          "height": 374
        }
      },
      "source": [
        "np.arange(0, 187)*8/1000"
      ],
      "execution_count": 15,
      "outputs": [
        {
          "output_type": "execute_result",
          "data": {
            "text/plain": [
              "array([0.   , 0.008, 0.016, 0.024, 0.032, 0.04 , 0.048, 0.056, 0.064,\n",
              "       0.072, 0.08 , 0.088, 0.096, 0.104, 0.112, 0.12 , 0.128, 0.136,\n",
              "       0.144, 0.152, 0.16 , 0.168, 0.176, 0.184, 0.192, 0.2  , 0.208,\n",
              "       0.216, 0.224, 0.232, 0.24 , 0.248, 0.256, 0.264, 0.272, 0.28 ,\n",
              "       0.288, 0.296, 0.304, 0.312, 0.32 , 0.328, 0.336, 0.344, 0.352,\n",
              "       0.36 , 0.368, 0.376, 0.384, 0.392, 0.4  , 0.408, 0.416, 0.424,\n",
              "       0.432, 0.44 , 0.448, 0.456, 0.464, 0.472, 0.48 , 0.488, 0.496,\n",
              "       0.504, 0.512, 0.52 , 0.528, 0.536, 0.544, 0.552, 0.56 , 0.568,\n",
              "       0.576, 0.584, 0.592, 0.6  , 0.608, 0.616, 0.624, 0.632, 0.64 ,\n",
              "       0.648, 0.656, 0.664, 0.672, 0.68 , 0.688, 0.696, 0.704, 0.712,\n",
              "       0.72 , 0.728, 0.736, 0.744, 0.752, 0.76 , 0.768, 0.776, 0.784,\n",
              "       0.792, 0.8  , 0.808, 0.816, 0.824, 0.832, 0.84 , 0.848, 0.856,\n",
              "       0.864, 0.872, 0.88 , 0.888, 0.896, 0.904, 0.912, 0.92 , 0.928,\n",
              "       0.936, 0.944, 0.952, 0.96 , 0.968, 0.976, 0.984, 0.992, 1.   ,\n",
              "       1.008, 1.016, 1.024, 1.032, 1.04 , 1.048, 1.056, 1.064, 1.072,\n",
              "       1.08 , 1.088, 1.096, 1.104, 1.112, 1.12 , 1.128, 1.136, 1.144,\n",
              "       1.152, 1.16 , 1.168, 1.176, 1.184, 1.192, 1.2  , 1.208, 1.216,\n",
              "       1.224, 1.232, 1.24 , 1.248, 1.256, 1.264, 1.272, 1.28 , 1.288,\n",
              "       1.296, 1.304, 1.312, 1.32 , 1.328, 1.336, 1.344, 1.352, 1.36 ,\n",
              "       1.368, 1.376, 1.384, 1.392, 1.4  , 1.408, 1.416, 1.424, 1.432,\n",
              "       1.44 , 1.448, 1.456, 1.464, 1.472, 1.48 , 1.488])"
            ]
          },
          "metadata": {
            "tags": []
          },
          "execution_count": 15
        }
      ]
    },
    {
      "cell_type": "code",
      "metadata": {
        "id": "IflHxWg14nb_",
        "colab_type": "code",
        "colab": {
          "base_uri": "https://localhost:8080/",
          "height": 238
        },
        "outputId": "cd610513-040b-4fc7-f39b-7c309b5db94b"
      },
      "source": [
        "X[C0]"
      ],
      "execution_count": 16,
      "outputs": [
        {
          "output_type": "execute_result",
          "data": {
            "text/plain": [
              "array([[0.97794116, 0.92647058, 0.68137252, ..., 0.        , 0.        ,\n",
              "        0.        ],\n",
              "       [0.96011394, 0.86324787, 0.46153846, ..., 0.        , 0.        ,\n",
              "        0.        ],\n",
              "       [1.        , 0.65945947, 0.18648648, ..., 0.        , 0.        ,\n",
              "        0.        ],\n",
              "       ...,\n",
              "       [0.99191374, 0.73584908, 0.21563342, ..., 0.        , 0.        ,\n",
              "        0.        ],\n",
              "       [1.        , 0.83966243, 0.24050634, ..., 0.        , 0.        ,\n",
              "        0.        ],\n",
              "       [0.93478262, 0.73913044, 0.33540374, ..., 0.        , 0.        ,\n",
              "        0.        ]])"
            ]
          },
          "metadata": {
            "tags": []
          },
          "execution_count": 16
        }
      ]
    },
    {
      "cell_type": "code",
      "metadata": {
        "id": "5RP2otBq4yl3",
        "colab_type": "code",
        "colab": {
          "base_uri": "https://localhost:8080/",
          "height": 663
        },
        "outputId": "3a40f50c-b2e4-4a6f-b7da-06a5ec94a170"
      },
      "source": [
        "X[C0][0]"
      ],
      "execution_count": 17,
      "outputs": [
        {
          "output_type": "execute_result",
          "data": {
            "text/plain": [
              "array([0.97794116, 0.92647058, 0.68137252, 0.24509804, 0.15441176,\n",
              "       0.19117647, 0.15196079, 0.08578432, 0.05882353, 0.04901961,\n",
              "       0.04411765, 0.06127451, 0.06617647, 0.06127451, 0.04901961,\n",
              "       0.07352941, 0.06127451, 0.06127451, 0.06617647, 0.06862745,\n",
              "       0.09558824, 0.0759804 , 0.09313726, 0.10539216, 0.11519608,\n",
              "       0.10294118, 0.11764706, 0.125     , 0.14215687, 0.12745099,\n",
              "       0.15196079, 0.14460784, 0.16421568, 0.14460784, 0.15931372,\n",
              "       0.15196079, 0.15441176, 0.14215687, 0.15196079, 0.15196079,\n",
              "       0.14705883, 0.13235295, 0.12745099, 0.13480392, 0.13725491,\n",
              "       0.1127451 , 0.10784314, 0.10539216, 0.10784314, 0.09803922,\n",
              "       0.09313726, 0.10294118, 0.1004902 , 0.10539216, 0.10294118,\n",
              "       0.11764706, 0.10539216, 0.12254902, 0.12745099, 0.14215687,\n",
              "       0.14705883, 0.14460784, 0.1740196 , 0.23039216, 0.23774509,\n",
              "       0.24754901, 0.23039216, 0.2254902 , 0.19852941, 0.17647059,\n",
              "       0.13235295, 0.125     , 0.11764706, 0.12254902, 0.1127451 ,\n",
              "       0.12990196, 0.11519608, 0.08333334, 0.        , 0.06617647,\n",
              "       0.30637255, 0.61274511, 0.8602941 , 1.        , 0.95833331,\n",
              "       0.74509805, 0.30392158, 0.16421568, 0.20588236, 0.16421568,\n",
              "       0.10294118, 0.09558824, 0.09068628, 0.1004902 , 0.09558824,\n",
              "       0.09803922, 0.09313726, 0.09803922, 0.09558824, 0.1127451 ,\n",
              "       0.        , 0.        , 0.        , 0.        , 0.        ,\n",
              "       0.        , 0.        , 0.        , 0.        , 0.        ,\n",
              "       0.        , 0.        , 0.        , 0.        , 0.        ,\n",
              "       0.        , 0.        , 0.        , 0.        , 0.        ,\n",
              "       0.        , 0.        , 0.        , 0.        , 0.        ,\n",
              "       0.        , 0.        , 0.        , 0.        , 0.        ,\n",
              "       0.        , 0.        , 0.        , 0.        , 0.        ,\n",
              "       0.        , 0.        , 0.        , 0.        , 0.        ,\n",
              "       0.        , 0.        , 0.        , 0.        , 0.        ,\n",
              "       0.        , 0.        , 0.        , 0.        , 0.        ,\n",
              "       0.        , 0.        , 0.        , 0.        , 0.        ,\n",
              "       0.        , 0.        , 0.        , 0.        , 0.        ,\n",
              "       0.        , 0.        , 0.        , 0.        , 0.        ,\n",
              "       0.        , 0.        , 0.        , 0.        , 0.        ,\n",
              "       0.        , 0.        , 0.        , 0.        , 0.        ,\n",
              "       0.        , 0.        , 0.        , 0.        , 0.        ,\n",
              "       0.        , 0.        , 0.        , 0.        , 0.        ,\n",
              "       0.        , 0.        ])"
            ]
          },
          "metadata": {
            "tags": []
          },
          "execution_count": 17
        }
      ]
    },
    {
      "cell_type": "code",
      "metadata": {
        "id": "6YoN6yc7xsJB",
        "colab_type": "code",
        "outputId": "96deab71-bccd-4775-cdde-8dfa16d006f7",
        "colab": {
          "base_uri": "https://localhost:8080/",
          "height": 717
        }
      },
      "source": [
        "x = np.arange(0, 187)*8/1000\n",
        "\n",
        "plt.figure(figsize=(20,12))\n",
        "plt.plot(x, X[C0, :][0], label=\"Cat. N\")"
      ],
      "execution_count": 0,
      "outputs": [
        {
          "output_type": "execute_result",
          "data": {
            "text/plain": [
              "[<matplotlib.lines.Line2D at 0x7f8390f34ef0>]"
            ]
          },
          "metadata": {
            "tags": []
          },
          "execution_count": 19
        },
        {
          "output_type": "display_data",
          "data": {
            "image/png": "[encoded data removed]",
            "text/plain": [
              "<Figure size 1440x864 with 1 Axes>"
            ]
          },
          "metadata": {
            "tags": []
          }
        }
      ]
    },
    {
      "cell_type": "code",
      "metadata": {
        "id": "FUXvlNbnx77C",
        "colab_type": "code",
        "outputId": "82dc22ed-1ec2-4d2e-a2b4-4862eaa4cdcd",
        "colab": {
          "base_uri": "https://localhost:8080/",
          "height": 282
        }
      },
      "source": [
        "plt.plot(X[0, :])"
      ],
      "execution_count": 0,
      "outputs": [
        {
          "output_type": "execute_result",
          "data": {
            "text/plain": [
              "[<matplotlib.lines.Line2D at 0x7f8390ecb0f0>]"
            ]
          },
          "metadata": {
            "tags": []
          },
          "execution_count": 20
        },
        {
          "output_type": "display_data",
          "data": {
            "image/png": "[encoded data removed]",
            "text/plain": [
              "<Figure size 432x288 with 1 Axes>"
            ]
          },
          "metadata": {
            "tags": []
          }
        }
      ]
    },
    {
      "cell_type": "code",
      "metadata": {
        "id": "2DeXZE-_x-di",
        "colab_type": "code",
        "outputId": "783f414e-f48b-46ae-e4e3-3ff9b8461991",
        "colab": {
          "base_uri": "https://localhost:8080/",
          "height": 34
        }
      },
      "source": [
        "l = int(187 * (1 + (random.random()-0.5)/3))\n",
        "l"
      ],
      "execution_count": 0,
      "outputs": [
        {
          "output_type": "execute_result",
          "data": {
            "text/plain": [
              "182"
            ]
          },
          "metadata": {
            "tags": []
          },
          "execution_count": 27
        }
      ]
    },
    {
      "cell_type": "code",
      "metadata": {
        "id": "JoZxUd1x7r2a",
        "colab_type": "code",
        "colab": {}
      },
      "source": [
        "p=[1,2,3,4,5]"
      ],
      "execution_count": 0,
      "outputs": []
    },
    {
      "cell_type": "code",
      "metadata": {
        "id": "Y4C1-xLP7x18",
        "colab_type": "code",
        "colab": {
          "base_uri": "https://localhost:8080/",
          "height": 34
        },
        "outputId": "201cba5d-11ec-45aa-948d-f758222204f8"
      },
      "source": [
        "p"
      ],
      "execution_count": 20,
      "outputs": [
        {
          "output_type": "execute_result",
          "data": {
            "text/plain": [
              "[1, 2, 3, 4, 5]"
            ]
          },
          "metadata": {
            "tags": []
          },
          "execution_count": 20
        }
      ]
    },
    {
      "cell_type": "code",
      "metadata": {
        "id": "CcFGmSSI70_U",
        "colab_type": "code",
        "colab": {}
      },
      "source": [
        "q=3"
      ],
      "execution_count": 0,
      "outputs": []
    },
    {
      "cell_type": "code",
      "metadata": {
        "id": "8cCoi9WZ78Gd",
        "colab_type": "code",
        "colab": {
          "base_uri": "https://localhost:8080/",
          "height": 34
        },
        "outputId": "1dd06b0f-2752-4fd2-f72f-9658327f22d3"
      },
      "source": [
        "r = resample(p, q)\n",
        "r"
      ],
      "execution_count": 22,
      "outputs": [
        {
          "output_type": "execute_result",
          "data": {
            "text/plain": [
              "array([2.        , 2.30801829, 4.69198171])"
            ]
          },
          "metadata": {
            "tags": []
          },
          "execution_count": 22
        }
      ]
    },
    {
      "cell_type": "code",
      "metadata": {
        "id": "lEXmkxuSyPUv",
        "colab_type": "code",
        "outputId": "264c7910-4bc7-43f9-98ed-1f107a44fbb3",
        "colab": {
          "base_uri": "https://localhost:8080/",
          "height": 663
        }
      },
      "source": [
        "X[0, :]"
      ],
      "execution_count": 0,
      "outputs": [
        {
          "output_type": "execute_result",
          "data": {
            "text/plain": [
              "array([0.97794116, 0.92647058, 0.68137252, 0.24509804, 0.15441176,\n",
              "       0.19117647, 0.15196079, 0.08578432, 0.05882353, 0.04901961,\n",
              "       0.04411765, 0.06127451, 0.06617647, 0.06127451, 0.04901961,\n",
              "       0.07352941, 0.06127451, 0.06127451, 0.06617647, 0.06862745,\n",
              "       0.09558824, 0.0759804 , 0.09313726, 0.10539216, 0.11519608,\n",
              "       0.10294118, 0.11764706, 0.125     , 0.14215687, 0.12745099,\n",
              "       0.15196079, 0.14460784, 0.16421568, 0.14460784, 0.15931372,\n",
              "       0.15196079, 0.15441176, 0.14215687, 0.15196079, 0.15196079,\n",
              "       0.14705883, 0.13235295, 0.12745099, 0.13480392, 0.13725491,\n",
              "       0.1127451 , 0.10784314, 0.10539216, 0.10784314, 0.09803922,\n",
              "       0.09313726, 0.10294118, 0.1004902 , 0.10539216, 0.10294118,\n",
              "       0.11764706, 0.10539216, 0.12254902, 0.12745099, 0.14215687,\n",
              "       0.14705883, 0.14460784, 0.1740196 , 0.23039216, 0.23774509,\n",
              "       0.24754901, 0.23039216, 0.2254902 , 0.19852941, 0.17647059,\n",
              "       0.13235295, 0.125     , 0.11764706, 0.12254902, 0.1127451 ,\n",
              "       0.12990196, 0.11519608, 0.08333334, 0.        , 0.06617647,\n",
              "       0.30637255, 0.61274511, 0.8602941 , 1.        , 0.95833331,\n",
              "       0.74509805, 0.30392158, 0.16421568, 0.20588236, 0.16421568,\n",
              "       0.10294118, 0.09558824, 0.09068628, 0.1004902 , 0.09558824,\n",
              "       0.09803922, 0.09313726, 0.09803922, 0.09558824, 0.1127451 ,\n",
              "       0.        , 0.        , 0.        , 0.        , 0.        ,\n",
              "       0.        , 0.        , 0.        , 0.        , 0.        ,\n",
              "       0.        , 0.        , 0.        , 0.        , 0.        ,\n",
              "       0.        , 0.        , 0.        , 0.        , 0.        ,\n",
              "       0.        , 0.        , 0.        , 0.        , 0.        ,\n",
              "       0.        , 0.        , 0.        , 0.        , 0.        ,\n",
              "       0.        , 0.        , 0.        , 0.        , 0.        ,\n",
              "       0.        , 0.        , 0.        , 0.        , 0.        ,\n",
              "       0.        , 0.        , 0.        , 0.        , 0.        ,\n",
              "       0.        , 0.        , 0.        , 0.        , 0.        ,\n",
              "       0.        , 0.        , 0.        , 0.        , 0.        ,\n",
              "       0.        , 0.        , 0.        , 0.        , 0.        ,\n",
              "       0.        , 0.        , 0.        , 0.        , 0.        ,\n",
              "       0.        , 0.        , 0.        , 0.        , 0.        ,\n",
              "       0.        , 0.        , 0.        , 0.        , 0.        ,\n",
              "       0.        , 0.        , 0.        , 0.        , 0.        ,\n",
              "       0.        , 0.        , 0.        , 0.        , 0.        ,\n",
              "       0.        , 0.        ])"
            ]
          },
          "metadata": {
            "tags": []
          },
          "execution_count": 26
        }
      ]
    },
    {
      "cell_type": "code",
      "metadata": {
        "id": "c3fviyQBye-q",
        "colab_type": "code",
        "outputId": "63ef9dc1-29c1-4e6f-db3f-e13a9e2e0cc1",
        "colab": {
          "base_uri": "https://localhost:8080/",
          "height": 799
        }
      },
      "source": [
        "y = resample(X[0, :], l)\n",
        "y"
      ],
      "execution_count": 0,
      "outputs": [
        {
          "output_type": "execute_result",
          "data": {
            "text/plain": [
              "array([ 9.64765907e-01,  9.28852334e-01,  6.54829748e-01,  2.23067420e-01,\n",
              "        1.59775603e-01,  1.89680226e-01,  1.41454319e-01,  7.58339078e-02,\n",
              "        5.82116961e-02,  4.45958933e-02,  4.92502156e-02,  6.31462851e-02,\n",
              "        6.73803071e-02,  5.37613442e-02,  5.70233125e-02,  7.43208591e-02,\n",
              "        5.48573945e-02,  6.87594066e-02,  6.07659870e-02,  8.77167992e-02,\n",
              "        8.51134485e-02,  8.19517347e-02,  1.02393722e-01,  1.13037466e-01,\n",
              "        1.07064466e-01,  1.10844600e-01,  1.23553277e-01,  1.38713035e-01,\n",
              "        1.31130540e-01,  1.44800921e-01,  1.48769734e-01,  1.58570859e-01,\n",
              "        1.50923431e-01,  1.53194718e-01,  1.57271315e-01,  1.49907302e-01,\n",
              "        1.46598012e-01,  1.48010111e-01,  1.55623480e-01,  1.42687336e-01,\n",
              "        1.34544332e-01,  1.24550616e-01,  1.39648718e-01,  1.31006826e-01,\n",
              "        1.12062736e-01,  1.05585946e-01,  1.07358898e-01,  1.05420647e-01,\n",
              "        9.50696247e-02,  9.59795761e-02,  1.03308403e-01,  1.01608287e-01,\n",
              "        1.04403581e-01,  1.08945422e-01,  1.14541564e-01,  1.08531542e-01,\n",
              "        1.30417906e-01,  1.30544389e-01,  1.51363943e-01,  1.40737115e-01,\n",
              "        1.60792764e-01,  2.12347688e-01,  2.41594299e-01,  2.41760888e-01,\n",
              "        2.39743446e-01,  2.21909701e-01,  2.09484974e-01,  1.75347809e-01,\n",
              "        1.43329057e-01,  1.18423389e-01,  1.24687139e-01,  1.15631183e-01,\n",
              "        1.19959092e-01,  1.22443360e-01,  1.22217284e-01,  7.12462443e-02,\n",
              "        4.66442568e-03,  7.91471027e-02,  3.57313733e-01,  6.52460037e-01,\n",
              "        9.08193529e-01,  9.96120845e-01,  9.35877324e-01,  6.21075966e-01,\n",
              "        2.19068565e-01,  1.77040195e-01,  2.04214082e-01,  1.31773427e-01,\n",
              "        9.95574028e-02,  8.94516470e-02,  9.86785806e-02,  9.51642644e-02,\n",
              "        1.00849187e-01,  9.01839088e-02,  1.02275595e-01,  8.69227042e-02,\n",
              "        1.21525041e-01,  3.74970634e-02, -1.24143354e-02,  6.90683824e-03,\n",
              "       -4.52000741e-03,  3.17937784e-03, -2.31483563e-03,  1.70759868e-03,\n",
              "       -1.25572778e-03,  9.05221177e-04, -6.24729961e-04,  3.94762376e-04,\n",
              "       -2.02534193e-04,  3.92944954e-05,  1.01159776e-04, -2.23355403e-04,\n",
              "        3.30678068e-04, -4.25713794e-04,  5.10474064e-04, -5.86548499e-04,\n",
              "        6.55211004e-04, -7.17495204e-04,  7.74249089e-04, -8.26175296e-04,\n",
              "        8.73861265e-04, -9.17802147e-04,  9.58418403e-04, -9.96069515e-04,\n",
              "        1.03106476e-03, -1.06367175e-03,  1.09412333e-03, -1.12262307e-03,\n",
              "        1.14934983e-03, -1.17446140e-03,  1.19809765e-03, -1.22038299e-03,\n",
              "        1.24142856e-03, -1.26133398e-03,  1.28018892e-03, -1.29807437e-03,\n",
              "        1.31506373e-03, -1.33122381e-03,  1.34661566e-03, -1.36129528e-03,\n",
              "        1.37531426e-03, -1.38872038e-03,  1.40155814e-03, -1.41386916e-03,\n",
              "        1.42569270e-03, -1.43706605e-03,  1.44802487e-03, -1.45860366e-03,\n",
              "        1.46883609e-03, -1.47875544e-03,  1.48839500e-03, -1.49778853e-03,\n",
              "        1.50697079e-03, -1.51597813e-03,  1.52484912e-03, -1.53362539e-03,\n",
              "        1.54235259e-03, -1.55108157e-03,  1.55986979e-03, -1.56878324e-03,\n",
              "        1.57789871e-03, -1.58730683e-03,  1.59711605e-03, -1.60745781e-03,\n",
              "        1.61849363e-03, -1.63042474e-03,  1.64350541e-03, -1.65806193e-03,\n",
              "        1.67452001e-03, -1.69344525e-03,  1.71560480e-03, -1.74206366e-03,\n",
              "        1.77434086e-03, -1.81467253e-03,  1.86647688e-03, -1.93522244e-03,\n",
              "        2.03016394e-03, -2.16811631e-03,  2.38259085e-03, -2.74930732e-03,\n",
              "        3.47333599e-03, -5.29644340e-03])"
            ]
          },
          "metadata": {
            "tags": []
          },
          "execution_count": 28
        }
      ]
    },
    {
      "cell_type": "code",
      "metadata": {
        "id": "gyi5DgrN0c9h",
        "colab_type": "code",
        "outputId": "56761d11-410e-4ba4-e2eb-717c86d91fae",
        "colab": {
          "base_uri": "https://localhost:8080/",
          "height": 204
        }
      },
      "source": [
        "y_ = np.zeros(shape=(187, ))\n",
        "y_"
      ],
      "execution_count": 0,
      "outputs": [
        {
          "output_type": "execute_result",
          "data": {
            "text/plain": [
              "array([0., 0., 0., 0., 0., 0., 0., 0., 0., 0., 0., 0., 0., 0., 0., 0., 0.,\n",
              "       0., 0., 0., 0., 0., 0., 0., 0., 0., 0., 0., 0., 0., 0., 0., 0., 0.,\n",
              "       0., 0., 0., 0., 0., 0., 0., 0., 0., 0., 0., 0., 0., 0., 0., 0., 0.,\n",
              "       0., 0., 0., 0., 0., 0., 0., 0., 0., 0., 0., 0., 0., 0., 0., 0., 0.,\n",
              "       0., 0., 0., 0., 0., 0., 0., 0., 0., 0., 0., 0., 0., 0., 0., 0., 0.,\n",
              "       0., 0., 0., 0., 0., 0., 0., 0., 0., 0., 0., 0., 0., 0., 0., 0., 0.,\n",
              "       0., 0., 0., 0., 0., 0., 0., 0., 0., 0., 0., 0., 0., 0., 0., 0., 0.,\n",
              "       0., 0., 0., 0., 0., 0., 0., 0., 0., 0., 0., 0., 0., 0., 0., 0., 0.,\n",
              "       0., 0., 0., 0., 0., 0., 0., 0., 0., 0., 0., 0., 0., 0., 0., 0., 0.,\n",
              "       0., 0., 0., 0., 0., 0., 0., 0., 0., 0., 0., 0., 0., 0., 0., 0., 0.,\n",
              "       0., 0., 0., 0., 0., 0., 0., 0., 0., 0., 0., 0., 0., 0., 0., 0., 0.])"
            ]
          },
          "metadata": {
            "tags": []
          },
          "execution_count": 29
        }
      ]
    },
    {
      "cell_type": "code",
      "metadata": {
        "id": "Vyx7mUNB0nPf",
        "colab_type": "code",
        "outputId": "9427e387-3d12-41cc-91dd-1840cbc6b263",
        "colab": {
          "base_uri": "https://localhost:8080/",
          "height": 816
        }
      },
      "source": [
        "y_[:l] = y\n",
        "y_"
      ],
      "execution_count": 0,
      "outputs": [
        {
          "output_type": "execute_result",
          "data": {
            "text/plain": [
              "array([ 9.64765907e-01,  9.28852334e-01,  6.54829748e-01,  2.23067420e-01,\n",
              "        1.59775603e-01,  1.89680226e-01,  1.41454319e-01,  7.58339078e-02,\n",
              "        5.82116961e-02,  4.45958933e-02,  4.92502156e-02,  6.31462851e-02,\n",
              "        6.73803071e-02,  5.37613442e-02,  5.70233125e-02,  7.43208591e-02,\n",
              "        5.48573945e-02,  6.87594066e-02,  6.07659870e-02,  8.77167992e-02,\n",
              "        8.51134485e-02,  8.19517347e-02,  1.02393722e-01,  1.13037466e-01,\n",
              "        1.07064466e-01,  1.10844600e-01,  1.23553277e-01,  1.38713035e-01,\n",
              "        1.31130540e-01,  1.44800921e-01,  1.48769734e-01,  1.58570859e-01,\n",
              "        1.50923431e-01,  1.53194718e-01,  1.57271315e-01,  1.49907302e-01,\n",
              "        1.46598012e-01,  1.48010111e-01,  1.55623480e-01,  1.42687336e-01,\n",
              "        1.34544332e-01,  1.24550616e-01,  1.39648718e-01,  1.31006826e-01,\n",
              "        1.12062736e-01,  1.05585946e-01,  1.07358898e-01,  1.05420647e-01,\n",
              "        9.50696247e-02,  9.59795761e-02,  1.03308403e-01,  1.01608287e-01,\n",
              "        1.04403581e-01,  1.08945422e-01,  1.14541564e-01,  1.08531542e-01,\n",
              "        1.30417906e-01,  1.30544389e-01,  1.51363943e-01,  1.40737115e-01,\n",
              "        1.60792764e-01,  2.12347688e-01,  2.41594299e-01,  2.41760888e-01,\n",
              "        2.39743446e-01,  2.21909701e-01,  2.09484974e-01,  1.75347809e-01,\n",
              "        1.43329057e-01,  1.18423389e-01,  1.24687139e-01,  1.15631183e-01,\n",
              "        1.19959092e-01,  1.22443360e-01,  1.22217284e-01,  7.12462443e-02,\n",
              "        4.66442568e-03,  7.91471027e-02,  3.57313733e-01,  6.52460037e-01,\n",
              "        9.08193529e-01,  9.96120845e-01,  9.35877324e-01,  6.21075966e-01,\n",
              "        2.19068565e-01,  1.77040195e-01,  2.04214082e-01,  1.31773427e-01,\n",
              "        9.95574028e-02,  8.94516470e-02,  9.86785806e-02,  9.51642644e-02,\n",
              "        1.00849187e-01,  9.01839088e-02,  1.02275595e-01,  8.69227042e-02,\n",
              "        1.21525041e-01,  3.74970634e-02, -1.24143354e-02,  6.90683824e-03,\n",
              "       -4.52000741e-03,  3.17937784e-03, -2.31483563e-03,  1.70759868e-03,\n",
              "       -1.25572778e-03,  9.05221177e-04, -6.24729961e-04,  3.94762376e-04,\n",
              "       -2.02534193e-04,  3.92944954e-05,  1.01159776e-04, -2.23355403e-04,\n",
              "        3.30678068e-04, -4.25713794e-04,  5.10474064e-04, -5.86548499e-04,\n",
              "        6.55211004e-04, -7.17495204e-04,  7.74249089e-04, -8.26175296e-04,\n",
              "        8.73861265e-04, -9.17802147e-04,  9.58418403e-04, -9.96069515e-04,\n",
              "        1.03106476e-03, -1.06367175e-03,  1.09412333e-03, -1.12262307e-03,\n",
              "        1.14934983e-03, -1.17446140e-03,  1.19809765e-03, -1.22038299e-03,\n",
              "        1.24142856e-03, -1.26133398e-03,  1.28018892e-03, -1.29807437e-03,\n",
              "        1.31506373e-03, -1.33122381e-03,  1.34661566e-03, -1.36129528e-03,\n",
              "        1.37531426e-03, -1.38872038e-03,  1.40155814e-03, -1.41386916e-03,\n",
              "        1.42569270e-03, -1.43706605e-03,  1.44802487e-03, -1.45860366e-03,\n",
              "        1.46883609e-03, -1.47875544e-03,  1.48839500e-03, -1.49778853e-03,\n",
              "        1.50697079e-03, -1.51597813e-03,  1.52484912e-03, -1.53362539e-03,\n",
              "        1.54235259e-03, -1.55108157e-03,  1.55986979e-03, -1.56878324e-03,\n",
              "        1.57789871e-03, -1.58730683e-03,  1.59711605e-03, -1.60745781e-03,\n",
              "        1.61849363e-03, -1.63042474e-03,  1.64350541e-03, -1.65806193e-03,\n",
              "        1.67452001e-03, -1.69344525e-03,  1.71560480e-03, -1.74206366e-03,\n",
              "        1.77434086e-03, -1.81467253e-03,  1.86647688e-03, -1.93522244e-03,\n",
              "        2.03016394e-03, -2.16811631e-03,  2.38259085e-03, -2.74930732e-03,\n",
              "        3.47333599e-03, -5.29644340e-03,  0.00000000e+00,  0.00000000e+00,\n",
              "        0.00000000e+00,  0.00000000e+00,  0.00000000e+00])"
            ]
          },
          "metadata": {
            "tags": []
          },
          "execution_count": 30
        }
      ]
    },
    {
      "cell_type": "code",
      "metadata": {
        "id": "lDno6RsU030B",
        "colab_type": "code",
        "outputId": "54346b21-4e0a-4bdf-daac-957e648d3ef4",
        "colab": {
          "base_uri": "https://localhost:8080/",
          "height": 282
        }
      },
      "source": [
        "plt.plot(y_)"
      ],
      "execution_count": 0,
      "outputs": [
        {
          "output_type": "execute_result",
          "data": {
            "text/plain": [
              "[<matplotlib.lines.Line2D at 0x7f8390926f28>]"
            ]
          },
          "metadata": {
            "tags": []
          },
          "execution_count": 32
        },
        {
          "output_type": "display_data",
          "data": {
            "image/png": "[encoded data removed]",
            "text/plain": [
              "<Figure size 432x288 with 1 Axes>"
            ]
          },
          "metadata": {
            "tags": []
          }
        }
      ]
    },
    {
      "cell_type": "code",
      "metadata": {
        "id": "uukB14BJ8umL",
        "colab_type": "code",
        "colab": {
          "base_uri": "https://localhost:8080/",
          "height": 34
        },
        "outputId": "5e368559-5019-4d1d-e3d7-dc25c5b53cd4"
      },
      "source": [
        "alpha = (random.random()-0.5)\n",
        "alpha"
      ],
      "execution_count": 28,
      "outputs": [
        {
          "output_type": "execute_result",
          "data": {
            "text/plain": [
              "0.49477348776015484"
            ]
          },
          "metadata": {
            "tags": []
          },
          "execution_count": 28
        }
      ]
    },
    {
      "cell_type": "code",
      "metadata": {
        "id": "iQyBbvuP867i",
        "colab_type": "code",
        "colab": {
          "base_uri": "https://localhost:8080/",
          "height": 34
        },
        "outputId": "e50d127c-bf40-4638-8968-6d01f0d9ddeb"
      },
      "source": [
        "factor = -alpha*(0.5) + (1+alpha)\n",
        "factor"
      ],
      "execution_count": 29,
      "outputs": [
        {
          "output_type": "execute_result",
          "data": {
            "text/plain": [
              "1.2473867438800774"
            ]
          },
          "metadata": {
            "tags": []
          },
          "execution_count": 29
        }
      ]
    },
    {
      "cell_type": "code",
      "metadata": {
        "id": "5E_1HyS21FKv",
        "colab_type": "code",
        "outputId": "1c63c380-54af-40c1-f3fa-4719d2d4d815",
        "colab": {
          "base_uri": "https://localhost:8080/",
          "height": 34
        }
      },
      "source": [
        "alpha = (random.random()-0.5)\n",
        "alpha"
      ],
      "execution_count": 0,
      "outputs": [
        {
          "output_type": "execute_result",
          "data": {
            "text/plain": [
              "0.40259012400100713"
            ]
          },
          "metadata": {
            "tags": []
          },
          "execution_count": 38
        }
      ]
    },
    {
      "cell_type": "code",
      "metadata": {
        "id": "BtIjf6yn2D99",
        "colab_type": "code",
        "colab": {}
      },
      "source": [
        "def stretch(x):\n",
        "    l = int(187 * (1 + (random.random()-0.5)/3))\n",
        "    y = resample(x, l)\n",
        "    if l < 187:\n",
        "        y_ = np.zeros(shape=(187, ))\n",
        "        y_[:l] = y\n",
        "    else:\n",
        "        y_ = y[:187]\n",
        "    return y_"
      ],
      "execution_count": 0,
      "outputs": []
    },
    {
      "cell_type": "code",
      "metadata": {
        "id": "kgKswdC72Fmk",
        "colab_type": "code",
        "colab": {}
      },
      "source": [
        "def amplify(x):\n",
        "    alpha = (random.random()-0.5)\n",
        "    factor = -alpha*x + (1+alpha)\n",
        "    return x*factor\n",
        "\n",
        "def augment(x):\n",
        "    result = np.zeros(shape= (4, 187))\n",
        "    for i in range(3):\n",
        "        if random.random() < 0.33:\n",
        "            new_y = stretch(x)\n",
        "        elif random.random() < 0.66:\n",
        "            new_y = amplify(x)\n",
        "        else:\n",
        "            new_y = stretch(x)\n",
        "            new_y = amplify(new_y)\n",
        "        result[i, :] = new_y\n",
        "    return result"
      ],
      "execution_count": 0,
      "outputs": []
    },
    {
      "cell_type": "code",
      "metadata": {
        "id": "vRSkcWc82Ip0",
        "colab_type": "code",
        "outputId": "c3e7998d-4334-4ded-d9cc-11bcd2e060ac",
        "colab": {
          "base_uri": "https://localhost:8080/",
          "height": 265
        }
      },
      "source": [
        "plt.plot(X[0, :])\n",
        "plt.plot(stretch(X[0, :]))\n",
        "plt.show()"
      ],
      "execution_count": 0,
      "outputs": [
        {
          "output_type": "display_data",
          "data": {
            "image/png": "[encoded data removed]",
            "text/plain": [
              "<Figure size 432x288 with 1 Axes>"
            ]
          },
          "metadata": {
            "tags": []
          }
        }
      ]
    },
    {
      "cell_type": "code",
      "metadata": {
        "id": "b0K6QCfZ2R7j",
        "colab_type": "code",
        "outputId": "857cba7e-ca46-4467-f2f4-0cb76410ee5c",
        "colab": {
          "base_uri": "https://localhost:8080/",
          "height": 265
        }
      },
      "source": [
        "plt.plot(X[0, :])\n",
        "plt.plot(amplify(X[0, :]))\n",
        "plt.show()"
      ],
      "execution_count": 0,
      "outputs": [
        {
          "output_type": "display_data",
          "data": {
            "image/png": "[encoded data removed]",
            "text/plain": [
              "<Figure size 432x288 with 1 Axes>"
            ]
          },
          "metadata": {
            "tags": []
          }
        }
      ]
    }
  ]
}